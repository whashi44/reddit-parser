{
 "cells": [
  {
   "cell_type": "code",
   "execution_count": null,
   "metadata": {},
   "outputs": [],
   "source": [
    "import pandas as pd"
   ]
  },
  {
   "cell_type": "code",
   "execution_count": null,
   "metadata": {},
   "outputs": [],
   "source": [
    "df = pd.DataFrame(data)\n",
    "df.head()"
   ]
  },
  {
   "cell_type": "code",
   "execution_count": null,
   "metadata": {},
   "outputs": [
    {
     "name": "stderr",
     "output_type": "stream",
     "text": [
      "C:\\Users\\tarut\\AppData\\Local\\Temp/ipykernel_8448/1903638359.py:2: FutureWarning: The default value of regex will change from True to False in a future version.\n",
      "  df_c= df['CY Level -> FY22 Level (A1>A2, S1->S2, S3->M1, etc)'].str.replace(\"\\W+\", \" \")\n"
     ]
    },
    {
     "data": {
      "text/plain": [
       "array(['A2 S1', 'S3 S4', 'A1 A2', 'S1 S2', 'M1 M2', 'S2 M1', 'A2 A3',\n",
       "       'S2 S3', 'A3 S1', '', 'S3 M1', 'M2 M3', 'A1', 'SA3'], dtype=object)"
      ]
     },
     "metadata": {},
     "output_type": "display_data"
    }
   ],
   "source": [
    "pd.set_option('display.max_rows',100)\n",
    "df_c= df['CY Level -> FY22 Level (A1>A2, S1->S2, S3->M1, etc)'].str.replace(\"\\W+\", \" \")\n",
    "df_c[df_c.str.len() <=5]."
   ]
  },
  {
   "cell_type": "code",
   "execution_count": null,
   "metadata": {},
   "outputs": [
    {
     "data": {
      "text/plain": [
       "0                                            [A2 ,  S1]\n",
       "1     [A1 ,  A2 (?) (Does 6 months to the end of the...\n",
       "2     [Don't know yet, but I'd be surprised if it wa...\n",
       "3                                             [S3 > S4]\n",
       "4                                            [A1 ,  A2]\n",
       "                            ...                        \n",
       "83                                      [) New hire A3]\n",
       "84                                                [SA3]\n",
       "85                           [A3,  S1 (Mid Year Promo)]\n",
       "86                                                 [A1]\n",
       "87                                              [A1>A2]\n",
       "Name: CY Level -> FY22 Level (A1>A2, S1->S2, S3->M1, etc), Length: 88, dtype: object"
      ]
     },
     "metadata": {},
     "output_type": "display_data"
    }
   ],
   "source": [
    "df['CY Level -> FY22 Level (A1>A2, S1->S2, S3->M1, etc)'].str.split(\"->\")\n"
   ]
  }
 ],
 "metadata": {
  "interpreter": {
   "hash": "8d0d3452dde8961abdc2a5f4e819b9aa059532425a347c768a89178a49456839"
  },
  "kernelspec": {
   "display_name": "Python 3.8.10 64-bit ('.venv': venv)",
   "name": "python3"
  },
  "language_info": {
   "name": "python",
   "version": "3.8.10"
  },
  "orig_nbformat": 4
 },
 "nbformat": 4,
 "nbformat_minor": 2
}
