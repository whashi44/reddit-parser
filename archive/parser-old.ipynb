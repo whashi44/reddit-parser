{
 "cells": [
  {
   "cell_type": "code",
   "execution_count": 61,
   "metadata": {},
   "outputs": [],
   "source": [
    "import requests\n",
    "import praw\n",
    "from praw.models import MoreComments \n",
    "import pandas as pd\n",
    "from collections import defaultdict"
   ]
  },
  {
   "cell_type": "code",
   "execution_count": 2,
   "metadata": {},
   "outputs": [],
   "source": [
    "%load_ext blackcellmagic"
   ]
  },
  {
   "cell_type": "code",
   "execution_count": 3,
   "metadata": {},
   "outputs": [
    {
     "data": {
      "text/plain": [
       "<Response [200]>"
      ]
     },
     "execution_count": 3,
     "metadata": {},
     "output_type": "execute_result"
    }
   ],
   "source": []
  },
  {
   "cell_type": "code",
   "execution_count": 13,
   "metadata": {},
   "outputs": [],
   "source": [
    "res = requests.get('https://oauth.reddit.com/r/Accounting/comments/o6c81e/pwc_2021_compensation_thread/',headers=headers)\n",
    "# print(res.json())"
   ]
  },
  {
   "cell_type": "code",
   "execution_count": 4,
   "metadata": {},
   "outputs": [],
   "source": [
    "# Create read only instance\n",
    "import json \n",
    "json_file = \"reddit_api_config.json\"\n",
    "json_key = \"reddit_api\"\n",
    "with open(json_file) as f:\n",
    "    data = json.load(f)\n",
    "user_values = data[json_key]\n",
    "\n",
    "reddit = praw.Reddit(\n",
    "    client_id=user_values['client_id'],\n",
    "    client_secret=user_values['client_secret'],\n",
    "    user_agent=user_values['user_agent'],\n",
    ")\n"
   ]
  },
  {
   "cell_type": "code",
   "execution_count": 202,
   "metadata": {},
   "outputs": [
    {
     "name": "stdout",
     "output_type": "stream",
     "text": [
      "True\n"
     ]
    }
   ],
   "source": [
    "# Test if the read only instance was created properly \n",
    "print(reddit.read_only)"
   ]
  },
  {
   "cell_type": "code",
   "execution_count": 5,
   "metadata": {},
   "outputs": [],
   "source": [
    "subreddit = reddit.subreddit(\"Accounting\")\n",
    "url = \"https://www.reddit.com/r/Accounting/comments/o6c81e/pwc_2021_compensation_thread/\"\n",
    "submission = reddit.submission(url=url)\n",
    "    \n",
    "\n"
   ]
  },
  {
   "cell_type": "markdown",
   "metadata": {},
   "source": [
    "1. Market/Office\n",
    "2. Trust or Consulting Solutions and LOS/Vertical\n",
    "3. CY Level -> FY22 Level (A1>A2, S1->S2, S3->M1, etc)\n",
    "4. Rating\n",
    "5. Old Salary -> New Salary\n",
    "6. Bonus\n",
    "7. Interesting notes on what RLs/RPs have told you related to future comp.\n",
    "8. Anything else? (opinions on the cohort model for all LOS, opinions on the new equation, etc)"
   ]
  },
  {
   "cell_type": "code",
   "execution_count": 58,
   "metadata": {},
   "outputs": [
    {
     "data": {
      "text/plain": [
       "[[], [], [], [], [], [], [], []]"
      ]
     },
     "execution_count": 58,
     "metadata": {},
     "output_type": "execute_result"
    }
   ],
   "source": [
    "# create a dictionary to organize the submission comments\n",
    "category_list = [\n",
    "    \"Location\",\n",
    "    \"Type\",\n",
    "    \"Change in level\",\n",
    "    \"Rating\",\n",
    "    \"Salary\",\n",
    "    \"Bonus\",\n",
    "    \"Notes\",\n",
    "    \"Other\",\n",
    "]\n",
    "num_keys = range(1, len(category_list)+1)\n",
    "\n",
    "empty = [[]]*len(category_list)\n",
    "\n",
    "submission_dict=dict(zip(category_list,empty))\n",
    "lookup_dict = dict(zip(num_keys, category_list))\n",
    "\n",
    "# submission_dict = {\n",
    "#     \"Location\": [],\n",
    "#     \"Type\": [],\n",
    "#     \"Change in level\": [],\n",
    "#     \"Rating\": [],\n",
    "#     \"Salary\": [],\n",
    "#     \"Bonus\": [],\n",
    "#     \"Notes\": [],\n",
    "#     \"Other\": [],\n",
    "# }\n",
    "\n",
    "\n",
    "# lookup_dict = {\n",
    "#     \"1\": \"Location\",\n",
    "#     \"2\": \"Type\",\n",
    "# }\n",
    "\n",
    "empty"
   ]
  },
  {
   "cell_type": "code",
   "execution_count": 45,
   "metadata": {},
   "outputs": [
    {
     "name": "stdout",
     "output_type": "stream",
     "text": [
      "dict_items([('Location', []), ('Type', []), ('Change in level', []), ('Rating', []), ('Salary', ['test', 'test']), ('Bonus', []), ('Notes', []), ('Other', [])])\n"
     ]
    }
   ],
   "source": [
    "print(submission_dict.items())\n",
    "lookup_dict.items()\n",
    "submission_dict['Salary']=['test']\n",
    "submission_dict['Salary'].append('test')\n",
    "\n"
   ]
  },
  {
   "cell_type": "code",
   "execution_count": 67,
   "metadata": {},
   "outputs": [
    {
     "name": "stdout",
     "output_type": "stream",
     "text": [
      "8\n",
      "8\n",
      "7\n",
      "7\n",
      "8\n",
      "8\n",
      "6\n",
      "7\n",
      "5\n",
      "6\n",
      "8\n",
      "7\n",
      "8\n",
      "8\n",
      "6\n",
      "8\n",
      "8\n",
      "8\n",
      "8\n",
      "8\n",
      "8\n",
      "8\n",
      "1\n",
      "8\n",
      "7\n",
      "8\n",
      "8\n",
      "8\n",
      "8\n",
      "8\n",
      "8\n",
      "8\n",
      "7\n",
      "8\n",
      "6\n",
      "7\n",
      "8\n",
      "8\n",
      "8\n",
      "8\n",
      "7\n",
      "7\n",
      "1\n",
      "8\n",
      "8\n",
      "8\n",
      "8\n",
      "6\n",
      "8\n",
      "8\n",
      "6\n",
      "2\n",
      "7\n",
      "8\n",
      "6\n",
      "8\n",
      "6\n",
      "6\n",
      "8\n",
      "8\n",
      "8\n",
      "7\n",
      "7\n",
      "7\n",
      "6\n",
      "8\n",
      "6\n",
      "6\n",
      "8\n",
      "6\n",
      "8\n",
      "8\n",
      "6\n",
      "8\n",
      "7\n",
      "8\n",
      "8\n",
      "6\n",
      "8\n",
      "6\n",
      "6\n",
      "8\n"
     ]
    },
    {
     "ename": "AttributeError",
     "evalue": "'MoreComments' object has no attribute 'body'",
     "output_type": "error",
     "traceback": [
      "\u001b[1;31m---------------------------------------------------------------------------\u001b[0m",
      "\u001b[1;31mAttributeError\u001b[0m                            Traceback (most recent call last)",
      "\u001b[1;32m~\\AppData\\Local\\Temp/ipykernel_1760/350891210.py\u001b[0m in \u001b[0;36m<module>\u001b[1;34m\u001b[0m\n\u001b[0;32m      6\u001b[0m \u001b[1;32mfor\u001b[0m \u001b[0mcomment\u001b[0m \u001b[1;32min\u001b[0m \u001b[0mcomments\u001b[0m\u001b[1;33m:\u001b[0m\u001b[1;33m\u001b[0m\u001b[1;33m\u001b[0m\u001b[0m\n\u001b[0;32m      7\u001b[0m     \u001b[1;31m# obtain the comment body\u001b[0m\u001b[1;33m\u001b[0m\u001b[1;33m\u001b[0m\u001b[1;33m\u001b[0m\u001b[0m\n\u001b[1;32m----> 8\u001b[1;33m     \u001b[0mcontent\u001b[0m \u001b[1;33m=\u001b[0m \u001b[0mcomment\u001b[0m\u001b[1;33m.\u001b[0m\u001b[0mbody\u001b[0m\u001b[1;33m\u001b[0m\u001b[1;33m\u001b[0m\u001b[0m\n\u001b[0m\u001b[0;32m      9\u001b[0m     \u001b[1;31m# split the contents line by line\u001b[0m\u001b[1;33m\u001b[0m\u001b[1;33m\u001b[0m\u001b[1;33m\u001b[0m\u001b[0m\n\u001b[0;32m     10\u001b[0m     \u001b[0mcontent\u001b[0m \u001b[1;33m=\u001b[0m \u001b[0mcontent\u001b[0m\u001b[1;33m.\u001b[0m\u001b[0msplit\u001b[0m\u001b[1;33m(\u001b[0m\u001b[1;34m\"\\n\"\u001b[0m\u001b[1;33m)\u001b[0m\u001b[1;33m\u001b[0m\u001b[1;33m\u001b[0m\u001b[0m\n",
      "\u001b[1;31mAttributeError\u001b[0m: 'MoreComments' object has no attribute 'body'"
     ]
    }
   ],
   "source": [
    "\n",
    "# obtain the submission comments object \n",
    "comments = submission.comments\n",
    "submission_dict=defaultdict(list)\n",
    "\n",
    "# for each comment in the comments object\n",
    "for comment in comments: \n",
    "    # obtain the comment body \n",
    "    content = comment.body\n",
    "    # split the contents line by line  \n",
    "    content = content.split(\"\\n\")\n",
    "    # remove empty strings from the list \n",
    "    content = list(filter(None, content))\n",
    "    # only select line that start with the numbers \n",
    "    content = [i for i in content if i[0].isnumeric()]\n",
    "    # if the list is blank \n",
    "    if not content: \n",
    "        #skip that item\n",
    "        continue\n",
    "    # create list of numbers from dict keys\n",
    "    key_list = str(list(lookup_dict.keys()))\n",
    "    for line in content:\n",
    "        heading_number = int(line[0])\n",
    "        category = lookup_dict[heading_number]\n",
    "        submission_dict[category].append(line.strip())\n",
    "    \n",
    "    print(heading_number)\n",
    "    # if line[0] in (lookup_dict.keys()):\n",
    "    #     category = lookup_dict[line[0]] \n",
    "    #     submission_dict[category] = line\n",
    "# for top_level_comments in submission.comments:\n",
    "#     if isinstance(top_level_comments, MoreComments):\n",
    "#         continue\n",
    "#     print(top_level_comments.body)"
   ]
  },
  {
   "cell_type": "code",
   "execution_count": 66,
   "metadata": {},
   "outputs": [
    {
     "name": "stdout",
     "output_type": "stream",
     "text": [
      "81\n",
      "80\n",
      "79\n",
      "78\n",
      "78\n",
      "78\n",
      "60\n",
      "47\n"
     ]
    }
   ],
   "source": [
    "for item in list(submission_dict.keys()):\n",
    "    print(len(submission_dict[item]))"
   ]
  }
 ],
 "metadata": {
  "interpreter": {
   "hash": "3858af5649e637e92a24ccb15887b30bb23fa4402b63d2572d5f39a957d3f5fe"
  },
  "kernelspec": {
   "display_name": "Python 3.8.10 64-bit",
   "name": "python3"
  },
  "language_info": {
   "codemirror_mode": {
    "name": "ipython",
    "version": 3
   },
   "file_extension": ".py",
   "mimetype": "text/x-python",
   "name": "python",
   "nbconvert_exporter": "python",
   "pygments_lexer": "ipython3",
   "version": "3.8.10"
  },
  "orig_nbformat": 4
 },
 "nbformat": 4,
 "nbformat_minor": 2
}
