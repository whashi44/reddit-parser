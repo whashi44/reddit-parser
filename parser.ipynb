{
 "cells": [
  {
   "cell_type": "code",
   "execution_count": 61,
   "metadata": {},
   "outputs": [],
   "source": [
    "\n",
    "# TODO change the code into function\n",
    "# TODO add looping functionarity to be able to iterate multiple links\n",
    "# TODO figure out how to deal with exceptions \n",
    "# TODO analyze the data and perform visualization"
   ]
  },
  {
   "cell_type": "code",
   "execution_count": 62,
   "metadata": {},
   "outputs": [],
   "source": [
    "import requests\n",
    "import praw\n",
    "from praw.models import MoreComments \n",
    "import pandas as pd\n",
    "from collections import defaultdict\n",
    "from bs4 import BeautifulSoup\n",
    "import json"
   ]
  },
  {
   "cell_type": "code",
   "execution_count": 63,
   "metadata": {},
   "outputs": [
    {
     "name": "stdout",
     "output_type": "stream",
     "text": [
      "The blackcellmagic extension is already loaded. To reload it, use:\n",
      "  %reload_ext blackcellmagic\n"
     ]
    }
   ],
   "source": [
    "%load_ext blackcellmagic"
   ]
  },
  {
   "cell_type": "code",
   "execution_count": 64,
   "metadata": {},
   "outputs": [],
   "source": [
    "def main():\n",
    "    \"\"\"\n",
    "    docstring\n",
    "    \"\"\"\n",
    "    json_file = \"reddit_api_config.json\"\n",
    "    json_key = \"reddit_api\"\n",
    "    url = \"https://www.reddit.com/r/Accounting/comments/hb5u1h/pwc_2020_compensation_thread/\"\n",
    "    reddit = authenticate(json_file=json_file, json_key=json_key)\n",
    "    submission = get_submission(reddit=reddit, url=url)\n",
    "    data_dict = get_data(submission)\n",
    "    file_name = get_filename(submission=submission)\n",
    "    save_dict(data_dict,file_name)\n",
    "    "
   ]
  },
  {
   "cell_type": "code",
   "execution_count": 65,
   "metadata": {},
   "outputs": [],
   "source": [
    "def authenticate(json_file, json_key):\n",
    "\n",
    "    # open the json file and load the data as dictionary\n",
    "    with open(json_file) as f:\n",
    "        data = json.load(f)\n",
    "    # look into the schema of json_key in json_file\n",
    "    user_values = data[json_key]\n",
    "\n",
    "    # initiate the session\n",
    "    reddit = praw.Reddit(\n",
    "        client_id=user_values[\"client_id\"],\n",
    "        client_secret=user_values[\"client_secret\"],\n",
    "        user_agent=user_values[\"user_agent\"],\n",
    "    )\n",
    "    return reddit"
   ]
  },
  {
   "cell_type": "code",
   "execution_count": 66,
   "metadata": {},
   "outputs": [],
   "source": [
    "def check_authentication(reddit):\n",
    "    # Test if the read only instance was created properly \n",
    "    print(reddit.read_only)"
   ]
  },
  {
   "cell_type": "code",
   "execution_count": 67,
   "metadata": {},
   "outputs": [],
   "source": [
    "def get_submission(reddit, url):\n",
    "    \"\"\"\n",
    "    docstring\n",
    "    \"\"\"\n",
    "    # Create submission object based on the url \n",
    "    submission = reddit.submission(url=url)\n",
    "    return submission\n"
   ]
  },
  {
   "cell_type": "code",
   "execution_count": 68,
   "metadata": {},
   "outputs": [],
   "source": [
    "def get_filename(submission):\n",
    "    \"\"\"\n",
    "    docstring\n",
    "    \"\"\"\n",
    "    file_name = submission.title.replace(\" \", \"_\")\n",
    "    file_name = f\"{file_name}.csv\"\n",
    "    return file_name\n"
   ]
  },
  {
   "cell_type": "code",
   "execution_count": 69,
   "metadata": {},
   "outputs": [],
   "source": [
    "def get_category(submission):\n",
    "    # obtaining the body of the OP's text in html format\n",
    "    submission_text = submission.selftext_html\n",
    "    # create soup object \n",
    "    soup = BeautifulSoup(submission_text, 'html.parser')\n",
    "    # the list is always in ordered list, or ol. hence find that \n",
    "    category_list = soup.find(\"ol\")\n",
    "    # we category_list.text will provide the str of category, hence split to make a list \n",
    "    category_list = category_list.text.split(\"\\n\")\n",
    "    # remove the empty elements in the list \n",
    "    category_list = list(filter(None,category_list))\n",
    "    # numbering for the category list\n",
    "    return category_list\n"
   ]
  },
  {
   "cell_type": "code",
   "execution_count": 70,
   "metadata": {},
   "outputs": [],
   "source": [
    "def get_number (category_list):\n",
    "    \"\"\"\n",
    "    docstring\n",
    "    \"\"\"\n",
    "    return range(1, len(category_list)+1)\n",
    "# print(lookup_dict)\n",
    "\n"
   ]
  },
  {
   "cell_type": "code",
   "execution_count": 71,
   "metadata": {},
   "outputs": [],
   "source": [
    "def get_lookup_dict(category_list):\n",
    "    \"\"\"\n",
    "    docstring\n",
    "    \"\"\"\n",
    "    # create lookup dictionary to identify category based on the number \n",
    "    return dict(zip(num_list, category_list))\n"
   ]
  },
  {
   "cell_type": "code",
   "execution_count": 72,
   "metadata": {},
   "outputs": [],
   "source": [
    "def get_check_dict(num_list):\n",
    "    \"\"\"\n",
    "    docstring\n",
    "    \"\"\"\n",
    "    # this dictionary will keep track of which items are responded\n",
    "    return {i:False for i in num_list}\n",
    "    "
   ]
  },
  {
   "cell_type": "code",
   "execution_count": 73,
   "metadata": {},
   "outputs": [],
   "source": [
    "\n",
    "def get_data(submission):\n",
    "    \n",
    "    category_list = get_category(submission=submission)\n",
    "    num_list = get_number(category_list=category_list)\n",
    "    lookup_dict = get_lookup_dict(category_list=category_list)\n",
    "    check_dict = get_check_dict(num_list=num_list)\n",
    "    \n",
    "    # obtain the submission comments object \n",
    "    submission_dict = defaultdict(list)\n",
    "    comments = submission.comments\n",
    "    # Need to call replace_more in order to avoid the Morecomments error\n",
    "    comments.replace_more(limit=None)\n",
    "    # for each comment in the comments object\n",
    "    for comment in comments: \n",
    "        print(f\"worked on the {comment.body}\")\n",
    "        # obtain the comment body \n",
    "        content = comment.body\n",
    "        # split the contents line by line  \n",
    "        content = content.split(\"\\n\")\n",
    "        # remove empty strings from the list \n",
    "        content = list(filter(None, content))\n",
    "        # only select line that start with the numbers \n",
    "        content = [i for i in content if i[0].isnumeric()]\n",
    "        # if the list is blank \n",
    "        if not content: \n",
    "            #skip that item\n",
    "            continue\n",
    "        # create list of numbers from dict keys\n",
    "        key_list = str(list(lookup_dict.keys()))\n",
    "        # for each line in the content, or the comment \n",
    "        for line in content:\n",
    "            # the number is always the first character \n",
    "            heading_number = float(line[0])\n",
    "            # obtain the category using the look up table \n",
    "            if check_dict[heading_number] == True: \n",
    "                continue\n",
    "            category = lookup_dict[heading_number]\n",
    "            check_dict[heading_number] = True\n",
    "            # append the response based on the category key \n",
    "            submission_dict[category].append(line.strip()[2:].strip())\n",
    "            # print(len(submission_dict[category]))\n",
    "\n",
    "            # print(f\"worked on the {line}\")\n",
    "        print(num_list)\n",
    "        for number in num_list:\n",
    "            if check_dict[number]:\n",
    "                check_dict[number]=False\n",
    "                # print(f\"did respond {number}\")\n",
    "                # continue\n",
    "            else:\n",
    "                print(number)\n",
    "                category = lookup_dict[number]\n",
    "                # print(\"category\")\n",
    "                # print(f\"before {submission_dict[category]}\")\n",
    "                submission_dict[category].append(\"\")\n",
    "                # print(f\"after {submission_dict[category]}\")\n",
    "                check_dict[number]=False\n",
    "                # print(f\"did not respond {number}\")\n",
    "                # continue\n",
    "    return submission_dict\n",
    "        \n",
    "        # we need to be careful because some people do not post response for all the question. Therefore, if they skip one or "
   ]
  },
  {
   "cell_type": "code",
   "execution_count": 74,
   "metadata": {},
   "outputs": [],
   "source": [
    "def save_data(data_dict, file_name):\n",
    "    df = pd.DataFrame(data_dict)\n",
    "    df.to_csv(file_name)"
   ]
  },
  {
   "cell_type": "code",
   "execution_count": 75,
   "metadata": {},
   "outputs": [],
   "source": [
    "%reset -f\n",
    "# The above magic command reset the variable, -f denote no user confirmation "
   ]
  },
  {
   "cell_type": "code",
   "execution_count": null,
   "metadata": {},
   "outputs": [],
   "source": []
  }
 ],
 "metadata": {
  "interpreter": {
   "hash": "3858af5649e637e92a24ccb15887b30bb23fa4402b63d2572d5f39a957d3f5fe"
  },
  "kernelspec": {
   "display_name": "Python 3.8.10 64-bit",
   "name": "python3"
  },
  "language_info": {
   "codemirror_mode": {
    "name": "ipython",
    "version": 3
   },
   "file_extension": ".py",
   "mimetype": "text/x-python",
   "name": "python",
   "nbconvert_exporter": "python",
   "pygments_lexer": "ipython3",
   "version": "3.8.10"
  },
  "orig_nbformat": 4
 },
 "nbformat": 4,
 "nbformat_minor": 2
}
