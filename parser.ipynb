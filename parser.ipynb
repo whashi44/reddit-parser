{
 "cells": [
  {
   "cell_type": "code",
   "execution_count": 5,
   "metadata": {},
   "outputs": [],
   "source": [
    "\n",
    "# TODO change the get_data function by creating an empty list and keep filling in to avoid checking in the end for an unanswered questions\n",
    "# TODO figure out how to deal with exceptions \n",
    "# TODO clean the data to be more presentable  \n",
    "# TODO identify the source of slow performance\n",
    "# TODO figure out how to remove special characters\n",
    "# TODO analyze the data and perform visualization"
   ]
  },
  {
   "cell_type": "code",
   "execution_count": 6,
   "metadata": {},
   "outputs": [],
   "source": [
    "%reset -f\n",
    "# The above magic command reset the variable, -f denote no user confirmation "
   ]
  },
  {
   "cell_type": "code",
   "execution_count": 7,
   "metadata": {},
   "outputs": [],
   "source": [
    "import requests\n",
    "import praw\n",
    "from praw.models import MoreComments \n",
    "import pandas as pd\n",
    "from collections import defaultdict\n",
    "from bs4 import BeautifulSoup\n",
    "import json\n",
    "import re"
   ]
  },
  {
   "cell_type": "code",
   "execution_count": 8,
   "metadata": {},
   "outputs": [
    {
     "name": "stdout",
     "output_type": "stream",
     "text": [
      "The blackcellmagic extension is already loaded. To reload it, use:\n",
      "  %reload_ext blackcellmagic\n"
     ]
    }
   ],
   "source": [
    "%load_ext blackcellmagic"
   ]
  },
  {
   "cell_type": "code",
   "execution_count": 9,
   "metadata": {},
   "outputs": [],
   "source": [
    "def main():\n",
    "    \"\"\"\n",
    "    docstring\n",
    "    \"\"\"\n",
    "    json_file = \"reddit_api_config.json\"\n",
    "    json_key = \"reddit_api\"\n",
    "    urls = [\n",
    "        \"https://www.reddit.com/r/Accounting/comments/o6c81e/pwc_2021_compensation_thread/\",\n",
    "        # \"https://www.reddit.com/r/Accounting/comments/hb5u1h/pwc_2020_compensation_thread/\",\n",
    "        # \"https://www.reddit.com/r/Accounting/comments/c1ob0e/pwc_2019_compensation_thread/\", \n",
    "    ]\n",
    "    for url in urls:\n",
    "        reddit = authenticate(json_file=json_file, json_key=json_key)\n",
    "        submission = reddit.submission(url=url)\n",
    "        print(f\"working on {url}\")\n",
    "        data_dict = get_data(submission)\n",
    "        file_name = get_filename(submission)\n",
    "        save_data(data_dict, file_name)\n",
    "    return data_dict"
   ]
  },
  {
   "cell_type": "code",
   "execution_count": 10,
   "metadata": {},
   "outputs": [],
   "source": [
    "def authenticate(json_file, json_key):\n",
    "    print(\"Authentication on going.....\")\n",
    "    # open the json file and load the data as dictionary\n",
    "    with open(json_file) as f:\n",
    "        data = json.load(f)\n",
    "    # look into the schema of json_key in json_file\n",
    "    user_values = data[json_key]\n",
    "\n",
    "    # initiate the session\n",
    "    reddit = praw.Reddit(\n",
    "        client_id=user_values[\"client_id\"],\n",
    "        client_secret=user_values[\"client_secret\"],\n",
    "        user_agent=user_values[\"user_agent\"],\n",
    "    )\n",
    "    \n",
    "    print(\"Success! Authenticated\")\n",
    "    return reddit"
   ]
  },
  {
   "cell_type": "code",
   "execution_count": 11,
   "metadata": {},
   "outputs": [],
   "source": [
    "def check_authentication(reddit):\n",
    "    # Test if the read only instance was created properly \n",
    "    print(reddit.read_only)"
   ]
  },
  {
   "cell_type": "code",
   "execution_count": 12,
   "metadata": {},
   "outputs": [],
   "source": [
    "def get_filename(submission):\n",
    "    \"\"\"\n",
    "    docstring\n",
    "    \"\"\"\n",
    "    file_name = submission.title.replace(\" \", \"_\")\n",
    "    file_name = f\"{file_name}.csv\"\n",
    "    return file_name\n"
   ]
  },
  {
   "cell_type": "code",
   "execution_count": 13,
   "metadata": {},
   "outputs": [],
   "source": [
    "def get_category(submission):\n",
    "    # obtaining the body of the OP's text in html format\n",
    "    submission_text = submission.selftext_html\n",
    "    # create soup object \n",
    "    soup = BeautifulSoup(submission_text, 'html.parser')\n",
    "    # the list is always in ordered list, or ol. hence find that \n",
    "    category_list = soup.find(\"ol\")\n",
    "    # we category_list.text will provide the str of category, hence split to make a list \n",
    "    category_list = category_list.text.split(\"\\n\")\n",
    "    # remove the empty elements in the list \n",
    "    category_list = list(filter(None,category_list))\n",
    "    # numbering for the category list\n",
    "    return category_list\n"
   ]
  },
  {
   "cell_type": "code",
   "execution_count": 14,
   "metadata": {},
   "outputs": [],
   "source": [
    "def get_number (category_list):\n",
    "    \"\"\"\n",
    "    docstring\n",
    "    \"\"\"\n",
    "    return range(1, len(category_list)+1)\n",
    "# print(lookup_dict)\n",
    "\n"
   ]
  },
  {
   "cell_type": "code",
   "execution_count": 15,
   "metadata": {},
   "outputs": [],
   "source": [
    "def get_lookup_dict(num_list,category_list):\n",
    "    \"\"\"\n",
    "    docstring\n",
    "    \"\"\"\n",
    "    # create lookup dictionary to identify category based on the number \n",
    "    return dict(zip(num_list, category_list))\n"
   ]
  },
  {
   "cell_type": "code",
   "execution_count": 16,
   "metadata": {},
   "outputs": [],
   "source": [
    "def get_check_dict(num_list):\n",
    "    \"\"\"\n",
    "    docstring\n",
    "    \"\"\"\n",
    "    # this dictionary will keep track of which items are responded\n",
    "    return {i:False for i in num_list}\n",
    "    "
   ]
  },
  {
   "cell_type": "code",
   "execution_count": 17,
   "metadata": {},
   "outputs": [],
   "source": [
    "def get_data(submission):\n",
    "    print(\"populating the lists\")\n",
    "    category_list = get_category(submission=submission)\n",
    "    num_list = get_number(category_list=category_list)\n",
    "    check_dict = get_check_dict(num_list=num_list)\n",
    "    lookup_dict = get_lookup_dict(num_list=num_list, category_list=category_list)\n",
    "    submission_dict = defaultdict(list)\n",
    "    print(\"Lists populated\")\n",
    "    \n",
    "    # for each comment in the comments object\n",
    "    print(\"Starting the loop\")\n",
    "    for comment in submission.comments: \n",
    "        # if the current comment is MoreComments objects, skip \n",
    "        if isinstance(comment, MoreComments):\n",
    "            continue\n",
    "        # obtain the comment body \n",
    "        content = comment.body\n",
    "        # split the contents line by line  \n",
    "        content = content.split(\"\\n\")\n",
    "        # remove empty strings from the list \n",
    "        content = list(filter(None, content))\n",
    "        # only select line that start with the numbers \n",
    "        content = [i for i in content if i[0].isnumeric()]\n",
    "        # if the list is blank, skip\n",
    "        if not content: \n",
    "            continue\n",
    "        # create list of numbers from dict keys\n",
    "        key_list = str(list(lookup_dict.keys()))\n",
    "        # for each line in the content, or the comment \n",
    "        for line in content:\n",
    "            # the number is always the first character \n",
    "            heading_number = float(line[0])\n",
    "            # obtain the category using the look up table \n",
    "            try:\n",
    "                if check_dict[heading_number]: \n",
    "                    continue\n",
    "            except KeyError:\n",
    "                continue\n",
    "            category = lookup_dict[heading_number]\n",
    "            # Keep track of which number was already responded\n",
    "            check_dict[heading_number] = True\n",
    "            # append the response based on the category key \n",
    "            submission_dict[category].append(line.strip()[2:].strip())\n",
    "        # Look for unanswered questions and add blank to keep the dictionary size uniform\n",
    "        for number in num_list:\n",
    "            if check_dict[number]:\n",
    "                check_dict[number]=False\n",
    "            else:\n",
    "                category = lookup_dict[number]\n",
    "                submission_dict[category].append(\"\")\n",
    "                check_dict[number]=False\n",
    "    return submission_dict\n",
    "        "
   ]
  },
  {
   "cell_type": "code",
   "execution_count": 18,
   "metadata": {},
   "outputs": [],
   "source": [
    "def save_data(data_dict, file_name):\n",
    "    print(f\"Saving the file to {file_name}\")\n",
    "    df = pd.DataFrame(data_dict)\n",
    "    df.to_csv(file_name)\n",
    "    print(\"Success! Saved\")\n"
   ]
  },
  {
   "cell_type": "code",
   "execution_count": 19,
   "metadata": {},
   "outputs": [
    {
     "name": "stdout",
     "output_type": "stream",
     "text": [
      "Authentication on going.....\n",
      "Success! Authenticated\n",
      "working on https://www.reddit.com/r/Accounting/comments/o6c81e/pwc_2021_compensation_thread/\n",
      "populating the lists\n",
      "Lists populated\n",
      "Starting the loop\n",
      "Saving the file to PwC_2021_Compensation_Thread.csv\n",
      "Success! Saved\n"
     ]
    }
   ],
   "source": [
    "if __name__ == \"__main__\":\n",
    "    data = main()"
   ]
  },
  {
   "cell_type": "code",
   "execution_count": null,
   "metadata": {},
   "outputs": [],
   "source": []
  },
  {
   "cell_type": "code",
   "execution_count": 20,
   "metadata": {},
   "outputs": [
    {
     "data": {
      "text/html": [
       "<div>\n",
       "<style scoped>\n",
       "    .dataframe tbody tr th:only-of-type {\n",
       "        vertical-align: middle;\n",
       "    }\n",
       "\n",
       "    .dataframe tbody tr th {\n",
       "        vertical-align: top;\n",
       "    }\n",
       "\n",
       "    .dataframe thead th {\n",
       "        text-align: right;\n",
       "    }\n",
       "</style>\n",
       "<table border=\"1\" class=\"dataframe\">\n",
       "  <thead>\n",
       "    <tr style=\"text-align: right;\">\n",
       "      <th></th>\n",
       "      <th>Market/Office</th>\n",
       "      <th>Trust or Consulting Solutions and LOS/Vertical</th>\n",
       "      <th>CY Level -&gt; FY22 Level (A1&gt;A2, S1-&gt;S2, S3-&gt;M1, etc)</th>\n",
       "      <th>Rating</th>\n",
       "      <th>Old Salary -&gt; New Salary</th>\n",
       "      <th>Bonus</th>\n",
       "      <th>Interesting notes on what RLs/RPs have told you related to future comp.</th>\n",
       "      <th>Anything else? (opinions on the cohort model for all LOS, opinions on the new equation, etc)</th>\n",
       "    </tr>\n",
       "  </thead>\n",
       "  <tbody>\n",
       "    <tr>\n",
       "      <th>0</th>\n",
       "      <td>HCOL (BANW)</td>\n",
       "      <td>Audit</td>\n",
       "      <td>A2 -&gt; S1</td>\n",
       "      <td>Rating not communicated yet</td>\n",
       "      <td>66,000 -&gt; 95,700 (45%)</td>\n",
       "      <td>Bonus not communicated yet</td>\n",
       "      <td>N/A</td>\n",
       "      <td>Pretty happy with the pay bump even factoring ...</td>\n",
       "    </tr>\n",
       "    <tr>\n",
       "      <th>1</th>\n",
       "      <td>NY Metro</td>\n",
       "      <td>Tax - Real Estate</td>\n",
       "      <td>A1 -&gt; A2 (?) (Does 6 months to the end of the ...</td>\n",
       "      <td>Rating - 3</td>\n",
       "      <td>$61,000 - $77,000 (26%)</td>\n",
       "      <td>Bonus: 2.1% based on $61,000 salary</td>\n",
       "      <td>N/A</td>\n",
       "      <td>Pretty shocked I got such a high raise with ju...</td>\n",
       "    </tr>\n",
       "    <tr>\n",
       "      <th>2</th>\n",
       "      <td>NYM</td>\n",
       "      <td>Advisory - Deals</td>\n",
       "      <td>Don't know yet, but I'd be surprised if it was...</td>\n",
       "      <td>112k --&gt; 150k (33%+)</td>\n",
       "      <td>Don't know yet, but T1 get 18.5%</td>\n",
       "      <td>N/A</td>\n",
       "      <td>Was really surprised it was this much.  I'm a ...</td>\n",
       "      <td></td>\n",
       "    </tr>\n",
       "    <tr>\n",
       "      <th>3</th>\n",
       "      <td>Southeast</td>\n",
       "      <td>Consulting, Risk and Reg</td>\n",
       "      <td>S3 &gt; S4</td>\n",
       "      <td>1 rating for second consecutive year.</td>\n",
       "      <td>93k &gt; 104k</td>\n",
       "      <td>$16,700</td>\n",
       "      <td>I did not get promoted “because there were no ...</td>\n",
       "      <td></td>\n",
       "    </tr>\n",
       "    <tr>\n",
       "      <th>4</th>\n",
       "      <td>NYM</td>\n",
       "      <td>Assurance</td>\n",
       "      <td>A1 -&gt; A2</td>\n",
       "      <td>Tier 3</td>\n",
       "      <td>61k -&gt; 70k</td>\n",
       "      <td>2%</td>\n",
       "      <td>Higher ups are aware it’s been perpetual busy ...</td>\n",
       "      <td>I’m fine with the cohort model, hard to compla...</td>\n",
       "    </tr>\n",
       "  </tbody>\n",
       "</table>\n",
       "</div>"
      ],
      "text/plain": [
       "  Market/Office Trust or Consulting Solutions and LOS/Vertical  \\\n",
       "0   HCOL (BANW)                                          Audit   \n",
       "1      NY Metro                              Tax - Real Estate   \n",
       "2           NYM                               Advisory - Deals   \n",
       "3     Southeast                       Consulting, Risk and Reg   \n",
       "4           NYM                                      Assurance   \n",
       "\n",
       "  CY Level -> FY22 Level (A1>A2, S1->S2, S3->M1, etc)  \\\n",
       "0                                           A2 -> S1    \n",
       "1  A1 -> A2 (?) (Does 6 months to the end of the ...    \n",
       "2  Don't know yet, but I'd be surprised if it was...    \n",
       "3                                            S3 > S4    \n",
       "4                                           A1 -> A2    \n",
       "\n",
       "                                  Rating          Old Salary -> New Salary  \\\n",
       "0            Rating not communicated yet            66,000 -> 95,700 (45%)   \n",
       "1                             Rating - 3           $61,000 - $77,000 (26%)   \n",
       "2                   112k --> 150k (33%+)  Don't know yet, but T1 get 18.5%   \n",
       "3  1 rating for second consecutive year.                        93k > 104k   \n",
       "4                                 Tier 3                        61k -> 70k   \n",
       "\n",
       "                                 Bonus  \\\n",
       "0           Bonus not communicated yet   \n",
       "1  Bonus: 2.1% based on $61,000 salary   \n",
       "2                                  N/A   \n",
       "3                              $16,700   \n",
       "4                                   2%   \n",
       "\n",
       "  Interesting notes on what RLs/RPs have told you related to future comp.  \\\n",
       "0                                                N/A                        \n",
       "1                                                N/A                        \n",
       "2  Was really surprised it was this much.  I'm a ...                        \n",
       "3  I did not get promoted “because there were no ...                        \n",
       "4  Higher ups are aware it’s been perpetual busy ...                        \n",
       "\n",
       "  Anything else? (opinions on the cohort model for all LOS, opinions on the new equation, etc)  \n",
       "0  Pretty happy with the pay bump even factoring ...                                            \n",
       "1  Pretty shocked I got such a high raise with ju...                                            \n",
       "2                                                                                               \n",
       "3                                                                                               \n",
       "4  I’m fine with the cohort model, hard to compla...                                            "
      ]
     },
     "execution_count": 20,
     "metadata": {},
     "output_type": "execute_result"
    }
   ],
   "source": []
  }
 ],
 "metadata": {
  "interpreter": {
   "hash": "8d0d3452dde8961abdc2a5f4e819b9aa059532425a347c768a89178a49456839"
  },
  "kernelspec": {
   "display_name": "Python 3.8.10 64-bit ('.venv': venv)",
   "name": "python3"
  },
  "language_info": {
   "codemirror_mode": {
    "name": "ipython",
    "version": 3
   },
   "file_extension": ".py",
   "mimetype": "text/x-python",
   "name": "python",
   "nbconvert_exporter": "python",
   "pygments_lexer": "ipython3",
   "version": "3.8.10"
  },
  "orig_nbformat": 4
 },
 "nbformat": 4,
 "nbformat_minor": 2
}
